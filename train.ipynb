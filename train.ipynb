{
 "cells": [
  {
   "cell_type": "code",
   "execution_count": 1,
   "id": "61fd2455",
   "metadata": {},
   "outputs": [
    {
     "name": "stdout",
     "output_type": "stream",
     "text": [
      "PyTorch Version:  2.1.0\n",
      "Using the GPU!\n"
     ]
    }
   ],
   "source": [
    "import torch\n",
    "import os\n",
    "import numpy as np\n",
    "from torch.utils.data import Dataset, DataLoader\n",
    "import random\n",
    "import librosa\n",
    "import soundfile as sf\n",
    "from tqdm import tqdm\n",
    "\n",
    "torch.cuda.is_available()\n",
    "torch.cuda.device_count()\n",
    "torch.cuda.current_device()\n",
    "torch.cuda.device(0)\n",
    "torch.cuda.get_device_name(0)\n",
    "\n",
    "# check if files can be opened\n",
    "print(\"PyTorch Version: \",torch.__version__)\n",
    "# Detect if we have a GPU available\n",
    "device = torch.device(\"cuda:0\" if torch.cuda.is_available() else \"cpu\")\n",
    "if torch.cuda.is_available():\n",
    "    print(\"Using the GPU!\")\n",
    "else:\n",
    "    print(\"WARNING: Could not find GPU! Using CPU only.\")"
   ]
  },
  {
   "cell_type": "code",
   "execution_count": 2,
   "id": "7d6e362d",
   "metadata": {},
   "outputs": [],
   "source": [
    "class CustomDataset(Dataset):\n",
    "    def __init__(self, root_dir, transform=None):\n",
    "        self.root_dir = root_dir\n",
    "        self.transform = transform\n",
    "        self.file_list = []\n",
    "        \n",
    "        self.labels_to_int = {}\n",
    "        labels = sorted(os.listdir(root_dir))\n",
    "        for i in range(len(labels)):\n",
    "            self.labels_to_int[labels[i]] = i\n",
    "\n",
    "        # Iterate through each class folder\n",
    "        for class_folder in os.listdir(root_dir):\n",
    "            class_path = os.path.join(root_dir, class_folder)\n",
    "            \n",
    "            # Check if it's a directory\n",
    "            if os.path.isdir(class_path):\n",
    "                # Iterate through CSV files in the class folder\n",
    "                for file_name in os.listdir(class_path):\n",
    "                    if file_name.endswith('.csv'):\n",
    "                        file_path = os.path.join(class_path, file_name)\n",
    "                        self.file_list.append((file_path, class_folder))\n",
    "\n",
    "    def __len__(self):\n",
    "        return len(self.file_list)\n",
    "\n",
    "    def __getitem__(self, idx):\n",
    "        file_path, label = self.file_list[idx]\n",
    "        data = np.genfromtxt(file_path, delimiter=',')\n",
    "        \n",
    "        #random crop\n",
    "        if(data.shape[1] > 100):\n",
    "            rng = random.randrange(0, data.shape[1]-100)\n",
    "            data = torch.tensor(data[:, rng:rng+100], dtype=torch.float32)\n",
    "        else:\n",
    "            data = torch.tensor(data, dtype=torch.float32)\n",
    "        \n",
    "        label = self.labels_to_int[label]\n",
    "        sample = {'data': data, 'label': label}\n",
    "\n",
    "        if self.transform:\n",
    "            sample = self.transform(sample)\n",
    "\n",
    "        return sample\n"
   ]
  },
  {
   "cell_type": "code",
   "execution_count": 3,
   "id": "ab90442f",
   "metadata": {},
   "outputs": [],
   "source": [
    "root_dir = 'C:\\GenshinVoice\\Melspec_data'\n",
    "custom_dataset = CustomDataset(root_dir)\n",
    "dataloader = DataLoader(custom_dataset, batch_size=64, shuffle=False)"
   ]
  },
  {
   "cell_type": "code",
   "execution_count": 4,
   "id": "b38927ea",
   "metadata": {
    "scrolled": true
   },
   "outputs": [
    {
     "name": "stderr",
     "output_type": "stream",
     "text": [
      "2it [00:04,  2.20s/it]\n"
     ]
    }
   ],
   "source": [
    "# to train here\n",
    "for i, batch in tqdm(enumerate(dataloader)):\n",
    "    data, labels = batch['data'], batch['label']\n",
    "    \n",
    "    # put train here, just a place holder now\n",
    "    aa = data[2].numpy()\n",
    "    aaa = librosa.feature.inverse.mel_to_audio(aa, sr = 22050)\n",
    "    out_file_name = 'C:\\\\Users\\\\Joshua Ning\\\\Desktop\\\\VChanger\\\\test' + str(i) + '.wav'\n",
    "    sf.write(out_file_name, aaa, 22050)\n",
    "    i = i+1\n",
    "    if i == 3:\n",
    "        break"
   ]
  },
  {
   "cell_type": "code",
   "execution_count": null,
   "id": "dc258af3",
   "metadata": {},
   "outputs": [],
   "source": []
  }
 ],
 "metadata": {
  "kernelspec": {
   "display_name": "Python 3 (ipykernel)",
   "language": "python",
   "name": "python3"
  },
  "language_info": {
   "codemirror_mode": {
    "name": "ipython",
    "version": 3
   },
   "file_extension": ".py",
   "mimetype": "text/x-python",
   "name": "python",
   "nbconvert_exporter": "python",
   "pygments_lexer": "ipython3",
   "version": "3.11.5"
  }
 },
 "nbformat": 4,
 "nbformat_minor": 5
}
